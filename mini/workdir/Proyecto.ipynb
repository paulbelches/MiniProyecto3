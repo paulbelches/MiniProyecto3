{
 "cells": [
  {
   "cell_type": "code",
   "execution_count": 1,
   "metadata": {},
   "outputs": [],
   "source": [
    "from math import *\n",
    "import numpy as np\n",
    "np.random.seed(0)"
   ]
  },
  {
   "cell_type": "code",
   "execution_count": 2,
   "metadata": {},
   "outputs": [],
   "source": [
    "def generarTiempo(t, l): \n",
    "    t = t - (np.log(np.random.uniform())/l)\n",
    "    return t\n",
    "\n",
    "def simulation(serverNumber, request, LAMBDA):\n",
    "    T = 3600\n",
    "    t = Na = Nd = 0 #t es por donde vamos\n",
    "    D = []\n",
    "    A = []\n",
    "    td = [] #departure\n",
    "    ta = []\n",
    "    n = []\n",
    "    pri = False\n",
    "    def smaller(arrayValues, arrayCounter ):\n",
    "        pos, value = 0, inf\n",
    "        for i in range(serverNumber):\n",
    "            if (arrayValues[i] < value and arrayCounter[i] != 0):\n",
    "                value = arrayValues[i]\n",
    "                pos = i\n",
    "        return pos\n",
    "\n",
    "    for i in range(serverNumber):\n",
    "        D.append([])\n",
    "        A.append([])\n",
    "        n.append(0)\n",
    "        ta.append(0)\n",
    "        td.append(inf)\n",
    "    flag = True\n",
    "    while (flag):\n",
    "        posTa = ta.index(min(ta))\n",
    "        posTd = td.index(min(td))\n",
    "        if (ta[posTa] <= td[posTd] and ta[posTa] <= T): # La siguiente operacion que atendemos es una llegada\n",
    "            #Move pointer\n",
    "            t = ta[ta.index(max(ta))] #Último tiempo de llegada\n",
    "            #Counters\n",
    "            Na+=1\n",
    "            n[posTa]+= 1\n",
    "            #Generate next\n",
    "            ta[posTa] = generarTiempo(t, LAMBDA)\n",
    "            if (n[posTa] == 1):\n",
    "                td[posTa] = t - (1/request)*np.log(np.random.uniform())\n",
    "            A[posTa].append(t) #Tiempo de llegada de la solicitud\n",
    "        elif (td[posTd] <= ta[posTa] and td[posTd] <= T): #Attending exit case\n",
    "            #Move pointer\n",
    "            t = td[posTd]\n",
    "            #Counters\n",
    "            Nd+=1\n",
    "            n[posTd]-=1\n",
    "            #Last element in list\n",
    "            if (n[posTd] == 0):\n",
    "                td[posTd] = inf\n",
    "            else:\n",
    "                td[posTd] = t - (1/request)*np.log(np.random.uniform())\n",
    "            #print(t, td, ta)\n",
    "            D[posTd].append(t) #Tiempo de salida de la solicitud\n",
    "        elif (min(ta[posTa],td[posTd]) > T and sum(n) > 0):\n",
    "            pos = smaller(td, n)\n",
    "            pri = True\n",
    "            t = td[pos]\n",
    "            Nd+=1\n",
    "            n[pos]-=1\n",
    "            if (n[pos] > 0):\n",
    "                td[pos] = t - (1/request)*np.log(np.random.uniform())\n",
    "            D[pos].append(t)#Tiempo de salida de la solicitud\n",
    "        elif (min(ta[posTa], td[posTd]) > T and sum(n) == 0): \n",
    "            Tp = max(t - T, 0)\n",
    "            flag = False\n",
    "    return A, D\n",
    "\n",
    "def info(listArrival,listDeparture):\n",
    "    canti=len(listArrival)\n",
    "    ocup=0\n",
    "    for i in range(canti):\n",
    "        ocup=ocup+listDeparture[i]-listArrival[i]\n",
    "    us=listDeparture[(canti-1)]\n",
    "    libre=0\n",
    "    cola=0\n",
    "    conta=0\n",
    "    for j in range(canti-1):\n",
    "        if (listDeparture[j]>listArrival[j+1]):\n",
    "            dif=listDeparture[j]-listArrival[j+1]\n",
    "            cola=cola+dif\n",
    "            conta+=1\n",
    "        elif (listDeparture[j]<listArrival[j+1]):\n",
    "            dif=listArrival[j+1]-listDeparture[j]\n",
    "            libre=libre+dif\n",
    "    espprom=cola/canti \n",
    "    ocup=ocup-cola\n",
    "    tiempotot=listDeparture[canti-1]-listArrival[0]\n",
    "    colasec=conta/tiempotot\n",
    "    return canti,ocup,libre,cola,espprom,colasec,us\n",
    "\n",
    "\n",
    "def cantidadNecesaria(LAMBDA, solicitudes, empresa):  \n",
    "    flag=True\n",
    "    cont=1\n",
    "    while(flag==True):\n",
    "        A,D = simulation(cont,solicitudes,LAMBDA)\n",
    "        for i in range(cont):\n",
    "            canti,ocup,libre,cola,espprom,colasec,us=info(A[i],D[i])\n",
    "            #print(espprom)\n",
    "            if(round(espprom,10)==0):\n",
    "                flag=False\n",
    "                cantidad=len(A)\n",
    "            else:\n",
    "                cont+=1\n",
    "    print(\"Para manejar \",str(LAMBDA*60),\" solicitudes por minuto y que siempre haya un servidor de \"+empresa+\" disponible, se necesitan alquilar \", cantidad, \" servidores\")"
   ]
  },
  {
   "cell_type": "code",
   "execution_count": 4,
   "metadata": {},
   "outputs": [
    {
     "name": "stdout",
     "output_type": "stream",
     "text": [
      "El servidor de Gorilla Megacomputing atendio  144084  solicitudes, paso ocupado  1445.4113905263314  segundos y desocupado  2154.597242971952  segundos. \n",
      " Las solicitudes estuvieron en total  966.8300344235765  segundos en cola, lo cual nos da un promedio de  0.006710183187748651  segundos por solicitud. \n",
      " Cada segundo en promedio hubo  16.074961449124483  solicitudes en cola.\n",
      " El momento de salida de la ultima solicitud fue en el segundo:  3600.0086334982702\n",
      "---------------------------------------------------------------------------------------------------------------------------\n",
      "El servidor  1  de Ants Smart Computing atendio  14472  solicitudes, paso ocupado  442.4267617795188  segundos y desocupado  3157.5732104123194  segundos. \n",
      " Las solicitudes estuvieron en total  169.76874402448055  segundos en cola, lo cual nos da un promedio de  0.011730841903294676  segundos por solicitud. \n",
      " Cada segundo en promedio hubo  0.41000000316703983  solicitudes en cola.\n",
      " El momento de salida de la ultima solicitud fue en el segundo:  3599.9999721918457 \n",
      "\n",
      "El servidor  2  de Ants Smart Computing atendio  14472  solicitudes, paso ocupado  406.0313865662599  segundos y desocupado  3193.932771531572  segundos. \n",
      " Las solicitudes estuvieron en total  185.0678229880198  segundos en cola, lo cual nos da un promedio de  0.012787992190990865  segundos por solicitud. \n",
      " Cada segundo en promedio hubo  0.40333734899383406  solicitudes en cola.\n",
      " El momento de salida de la ultima solicitud fue en el segundo:  3599.9791580127485 \n",
      "\n",
      "El servidor  3  de Ants Smart Computing atendio  14472  solicitudes, paso ocupado  425.0261271319184  segundos y desocupado  3175.0147213378737  segundos. \n",
      " Las solicitudes estuvieron en total  160.53975555228072  segundos en cola, lo cual nos da un promedio de  0.011093128493109504  segundos por solicitud. \n",
      " Cada segundo en promedio hubo  0.40416208072151627  solicitudes en cola.\n",
      " El momento de salida de la ultima solicitud fue en el segundo:  3600.068504148958 \n",
      "\n",
      "El servidor  4  de Ants Smart Computing atendio  14472  solicitudes, paso ocupado  411.40421643031726  segundos y desocupado  3188.6307049885036  segundos. \n",
      " Las solicitudes estuvieron en total  161.81181840424512  segundos en cola, lo cual nos da un promedio de  0.011181026700127496  segundos por solicitud. \n",
      " Cada segundo en promedio hubo  0.38082963913574097  solicitudes en cola.\n",
      " El momento de salida de la ultima solicitud fue en el segundo:  3600.0840480057054 \n",
      "\n",
      "El servidor  5  de Ants Smart Computing atendio  14472  solicitudes, paso ocupado  445.61667975556765  segundos y desocupado  3154.4289330164956  segundos. \n",
      " Las solicitudes estuvieron en total  163.41090621712402  segundos en cola, lo cual nos da un promedio de  0.011291521988469045  segundos por solicitud. \n",
      " Cada segundo en promedio hubo  0.40582819140311455  solicitudes en cola.\n",
      " El momento de salida de la ultima solicitud fue en el segundo:  3600.1154013402515 \n",
      "\n",
      "El servidor  6  de Ants Smart Computing atendio  14472  solicitudes, paso ocupado  433.821551952463  segundos y desocupado  3166.1940708376837  segundos. \n",
      " Las solicitudes estuvieron en total  194.65334542258358  segundos en cola, lo cual nos da un promedio de  0.013450341723506329  segundos por solicitud. \n",
      " Cada segundo en promedio hubo  0.4049982424437359  solicitudes en cola.\n",
      " El momento de salida de la ultima solicitud fue en el segundo:  3600.08633670532 \n",
      "\n",
      "El servidor  7  de Ants Smart Computing atendio  14472  solicitudes, paso ocupado  424.43159842677255  segundos y desocupado  3175.701715114508  segundos. \n",
      " Las solicitudes estuvieron en total  182.035507017016  segundos en cola, lo cual nos da un promedio de  0.012578462342248202  segundos por solicitud. \n",
      " Cada segundo en promedio hubo  0.40554053776521753  solicitudes en cola.\n",
      " El momento de salida de la ultima solicitud fue en el segundo:  3600.209865984481 \n",
      "\n",
      "El servidor  8  de Ants Smart Computing atendio  14472  solicitudes, paso ocupado  427.0018649717963  segundos y desocupado  3173.008008217679  segundos. \n",
      " Las solicitudes estuvieron en total  171.07119582969656  segundos en cola, lo cual nos da un promedio de  0.011820839955064716  segundos por solicitud. \n",
      " Cada segundo en promedio hubo  0.404165558221351  solicitudes en cola.\n",
      " El momento de salida de la ultima solicitud fue en el segundo:  3600.100564517959 \n",
      "\n",
      "El servidor  9  de Ants Smart Computing atendio  14472  solicitudes, paso ocupado  422.0805513879524  segundos y desocupado  3177.877817727807  segundos. \n",
      " Las solicitudes estuvieron en total  161.1998213977443  segundos en cola, lo cual nos da un promedio de  0.011138738349761215  segundos por solicitud. \n",
      " Cada segundo en promedio hubo  0.4041713405584131  solicitudes en cola.\n",
      " El momento de salida de la ultima solicitud fue en el segundo:  3600.1151746359765 \n",
      "\n",
      "El servidor  10  de Ants Smart Computing atendio  14472  solicitudes, paso ocupado  435.8652506640624  segundos y desocupado  3164.120142595966  segundos. \n",
      " Las solicitudes estuvieron en total  181.6567949303917  segundos en cola, lo cual nos da un promedio de  0.012552293734825297  segundos por solicitud. \n",
      " Cada segundo en promedio hubo  0.4177794728878128  solicitudes en cola.\n",
      " El momento de salida de la ultima solicitud fue en el segundo:  3600.23972783835 \n",
      "\n",
      "---------------------------------------------------------------------------------------------------------------------------\n",
      "Resumen para los 10  servidores: \n",
      " Se atendieron  144720  solicitudes. La ultima salida fue en el  segundo:  3600.23972783835 . El tiempo promedio de espera de cada solicitud fue de:  0.011962518738139733  segundos. Y en promedio hubo  4.040812415297776  solicitudes en espera cada segundo.\n"
     ]
    }
   ],
   "source": [
    "#Task 1   \n",
    "ServerAmount= 10\n",
    "LAMBDA=40\n",
    "A,D = simulation(ServerAmount,10,LAMBDA)\n",
    "Ag,Dg= simulation(1,100,LAMBDA)\n",
    "\n",
    "canti,ocup,libre,cola,espprom,colasec,us=info(Ag[0],Dg[0])\n",
    "print(\"El servidor de Gorilla Megacomputing atendio \",canti, \" solicitudes, paso ocupado \",ocup,\" segundos y desocupado \",libre,\" segundos. \\n Las solicitudes estuvieron en total \",cola, \" segundos en cola, lo cual nos da un promedio de \",espprom, \" segundos por solicitud. \\n Cada segundo en promedio hubo \",colasec,\" solicitudes en cola.\\n El momento de salida de la ultima solicitud fue en el segundo: \",us)   \n",
    "print(\"---------------------------------------------------------------------------------------------------------------------------\")\n",
    "salida=[]\n",
    "promcola=0\n",
    "cantidad=0\n",
    "contador=0\n",
    "for i in range(ServerAmount):\n",
    "    canti,ocup,libre,cola,espprom,colasec,us=info(A[i],D[i])\n",
    "    promcola=promcola+cola\n",
    "    cantidad+=canti\n",
    "    salida.append(us)\n",
    "    contador+=colasec\n",
    "    print(\"El servidor \", i+1, \" de Ants Smart Computing atendio \",canti, \" solicitudes, paso ocupado \",ocup,\" segundos y desocupado \",libre,\" segundos. \\n Las solicitudes estuvieron en total \",cola, \" segundos en cola, lo cual nos da un promedio de \",espprom, \" segundos por solicitud. \\n Cada segundo en promedio hubo \",colasec,\" solicitudes en cola.\\n El momento de salida de la ultima solicitud fue en el segundo: \",us,\"\\n\")   \n",
    "prom=promcola/cantidad\n",
    "prom2=contador\n",
    "print(\"---------------------------------------------------------------------------------------------------------------------------\")\n",
    "print(\"Resumen para los\",i+1, \" servidores: \\n Se atendieron \", cantidad,\" solicitudes. La ultima salida fue en el  segundo: \",max(salida), \". El tiempo promedio de espera de cada solicitud fue de: \",prom,\" segundos. Y en promedio hubo \",prom2,\" solicitudes en espera cada segundo.\")"
   ]
  },
  {
   "cell_type": "code",
   "execution_count": 8,
   "metadata": {},
   "outputs": [],
   "source": [
    "LAMBDA=40"
   ]
  },
  {
   "cell_type": "code",
   "execution_count": 9,
   "metadata": {},
   "outputs": [
    {
     "name": "stdout",
     "output_type": "stream",
     "text": [
      "Para manejar  2400  solicitudes por minuto y que siempre haya un servidor de Ant Smart Computing disponible, se necesitan alquilar  32  servidores\n",
      "Para manejar  2400  solicitudes por minuto y que siempre haya un servidor de Gorilla Megacomputing disponible, se necesitan alquilar  8  servidores\n"
     ]
    }
   ],
   "source": [
    "#Task 2\n",
    "cantidadNecesaria(LAMBDA, 10, \"Ant Smart Computing\")\n",
    "cantidadNecesaria(LAMBDA, 100, \"Gorilla Megacomputing\")"
   ]
  },
  {
   "cell_type": "code",
   "execution_count": null,
   "metadata": {
    "scrolled": false
   },
   "outputs": [],
   "source": [
    "#Task 3   \n",
    "ServerAmount= 10\n",
    "LAMBDA=100\n",
    "A,D = simulation(ServerAmount,10,LAMBDA)\n",
    "Ag,Dg= simulation(1,100,LAMBDA)\n",
    "\n",
    "canti,ocup,libre,cola,espprom,colasec,us=info(Ag[0],Dg[0])\n",
    "print(\"El servidor de Gorilla Megacomputing atendio \",canti, \" solicitudes, paso ocupado \",ocup,\" segundos y desocupado \",libre,\" segundos. \\n Las solicitudes estuvieron en total \",cola, \" segundos en cola, lo cual nos da un promedio de \",espprom, \" segundos por solicitud. \\n Cada segundo en promedio hubo \",colasec,\" solicitudes en cola.\\n El momento de salida de la ultima solicitud fue en el segundo: \",us)   \n",
    "print(\"------------------------------------------------------------------------------------------------------------------------\")\n",
    "salida=[]\n",
    "promcola=0\n",
    "cantidad=0\n",
    "contador=0\n",
    "for i in range(ServerAmount):\n",
    "    canti,ocup,libre,cola,espprom,colasec,us=info(A[i],D[i])\n",
    "    promcola=promcola+cola\n",
    "    cantidad+=canti\n",
    "    salida.append(us)\n",
    "    contador+=colasec\n",
    "    print(\"El servidor \", i+1, \" de Ants Smart Computing atendio \",canti, \" solicitudes, paso ocupado \",ocup,\" segundos y desocupado \",libre,\" segundos. \\n Las solicitudes estuvieron en total \",cola, \" segundos en cola, lo cual nos da un promedio de \",espprom, \" segundos por solicitud. \\n Cada segundo en promedio hubo \",colasec,\" solicitudes en cola.\\n El momento de salida de la ultima solicitud fue en el segundo: \",us,\"\\n\")   \n",
    "prom=promcola/cantidad\n",
    "prom2=contador\n",
    "print(\"---------------------------------------------------------------------------------------------------------------------------\")\n",
    "(\"Resumen para los\",i+1, \" servidores: \\n Se atendieron \", cantidad,\" solicitudes. La ultima salida fue en el  segundo: \",max(salida), \". El tiempo promedio de espera de cada solicitud fue de: \",prom,\" segundos. Y en promedio hubo \",prom2,\" solicitudes en espera cada segundo.\")"
   ]
  },
  {
   "cell_type": "code",
   "execution_count": 10,
   "metadata": {},
   "outputs": [],
   "source": [
    "LAMBDA=100"
   ]
  },
  {
   "cell_type": "code",
   "execution_count": 11,
   "metadata": {
    "scrolled": true
   },
   "outputs": [
    {
     "name": "stdout",
     "output_type": "stream",
     "text": [
      "Para manejar  6000  solicitudes por minuto y que siempre haya un servidor de Ant Smart Computing disponible, se necesitan alquilar  128  servidores\n",
      "Para manejar  6000  solicitudes por minuto y que siempre haya un servidor de Gorilla Megacomputing disponible, se necesitan alquilar  16  servidores\n"
     ]
    }
   ],
   "source": [
    "#Task 4\n",
    "cantidadNecesaria(LAMBDA, 10, \"Ant Smart Computing\")\n",
    "cantidadNecesaria(LAMBDA, 100, \"Gorilla Megacomputing\")"
   ]
  },
  {
   "cell_type": "code",
   "execution_count": null,
   "metadata": {},
   "outputs": [],
   "source": []
  }
 ],
 "metadata": {
  "kernelspec": {
   "display_name": "Python 3",
   "language": "python",
   "name": "python3"
  },
  "language_info": {
   "codemirror_mode": {
    "name": "ipython",
    "version": 3
   },
   "file_extension": ".py",
   "mimetype": "text/x-python",
   "name": "python",
   "nbconvert_exporter": "python",
   "pygments_lexer": "ipython3",
   "version": "3.7.3"
  }
 },
 "nbformat": 4,
 "nbformat_minor": 4
}
